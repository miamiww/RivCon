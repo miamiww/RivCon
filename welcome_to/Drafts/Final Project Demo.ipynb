{
 "cells": [
  {
   "cell_type": "code",
   "execution_count": 2,
   "metadata": {
    "collapsed": true
   },
   "outputs": [],
   "source": [
    "def talk_gen_markov(max_lines):\n",
    "    lines = shmarkov.markov_generate_from_lines_in_file(2, open(\"totaldeasiean.txt\"), max_lines, 'word')\n",
    "    num_lines = random.randint(1,max_lines)\n",
    "    statement = \" \".join(random.sample(lines, num_lines))\n",
    "    reaction = react.predict(statement)\n",
    "    print(\"ALDEN:\")\n",
    "    print(statement)\n",
    "    print(\"\")\n",
    "    print(\"AUDIENCE:\")\n",
    "    print(\"*\"+max(reaction.items(), key=operator.itemgetter(1))[0] +\"*\")"
   ]
  },
  {
   "cell_type": "code",
   "execution_count": 3,
   "metadata": {},
   "outputs": [
    {
     "name": "stderr",
     "output_type": "stream",
     "text": [
      "Using TensorFlow backend.\n"
     ]
    }
   ],
   "source": [
    "import shmarkov\n",
    "import random\n",
    "import operator\n",
    "from reactionrnn import reactionrnn\n",
    "\n",
    "react = reactionrnn()"
   ]
  },
  {
   "cell_type": "code",
   "execution_count": 6,
   "metadata": {},
   "outputs": [],
   "source": [
    "love_reacts = ['lean forward in your seats and murmur approvingly','sit on the edge of your seat. nod. this is the best talk you have ever been to']\n",
    "angry_reacts = ['that does not seem right. furrow your brows in consternation', 'the speaker has to be wrong about this. sit up and glower']\n",
    "sad_reacts = ['uh oh, you would rather not be thinking about this right now. your phone gets heavy in your pocket. take it out and check it']\n",
    "haha_reacts = ['wow that was funny. laugh','laugh, let out a few woops', 'chuckle approvingly']\n",
    "wow_reacts = ['your mind has just been blown. clap enthusiastically', 'wow. incredible. raise your eyebrows','that cannot be right. that is amazing. shuffle in your seat']\n",
    "# the_reactions = [love_reacts,angry_reacts,sad_reacts,haha_reacts]\n",
    "\n",
    "reaction_possibilities = {\n",
    "    'love':love_reacts,\n",
    "    'angry':angry_reacts,\n",
    "    'sad':sad_reacts,\n",
    "    'haha':haha_reacts,\n",
    "    'wow':wow_reacts\n",
    "}"
   ]
  },
  {
   "cell_type": "code",
   "execution_count": 7,
   "metadata": {},
   "outputs": [
    {
     "data": {
      "text/plain": [
       "'that cannot be right. that is amazing. shuffle in your seat'"
      ]
     },
     "execution_count": 7,
     "metadata": {},
     "output_type": "execute_result"
    }
   ],
   "source": [
    "get_reaction('hello')"
   ]
  },
  {
   "cell_type": "code",
   "execution_count": 8,
   "metadata": {},
   "outputs": [
    {
     "name": "stdout",
     "output_type": "stream",
     "text": [
      "ALDEN:\n",
      "But Lorem Ipsum itself -, to have all the philosophers out there – and it concerns the title of this talk.\n",
      "\n",
      "AUDIENCE:\n",
      "*haha*\n"
     ]
    }
   ],
   "source": [
    "talk_gen_markov(2)"
   ]
  },
  {
   "cell_type": "code",
   "execution_count": 9,
   "metadata": {},
   "outputs": [
    {
     "name": "stdout",
     "output_type": "stream",
     "text": [
      "ALDEN:\n",
      "“The International Artists’ Strike in 1979 was a “protest against the ongoing repression of the moral pillars of the art system and the alienation of artists from the terror of total Dasein. If some of them responded that they were on strike already – i.e. did not produce work or new work. But it made no difference whatsoever. Clearly, at this time this seems to have confounded received ideas of labour power from employers, who would then need to be shipped, insured and/or installed. Presence puts so-called butts on seats and thus provides legitimacy to cultural institutions competing for scarce funding. Institutions sell tickets or even not make a living. It is a fragment of a treatise on ethics by Cicero4 called „On the Ends of Good and Evil“. In this case you are\n",
      "\n",
      "AUDIENCE:\n",
      "*haha*\n"
     ]
    }
   ],
   "source": [
    "talk_gen_markov(3)"
   ]
  },
  {
   "cell_type": "code",
   "execution_count": 10,
   "metadata": {},
   "outputs": [
    {
     "name": "stdout",
     "output_type": "stream",
     "text": [
      "ALDEN:\n",
      "But presence also means permanent availability without any promise of compensation. It is one of the current reasons, however, might be that the mix of pleasure, labor and pain is so exhausting, that one would rather send a proxy politics, a politics of the art field expects his or her labour to be engaged or occupied with an activity without being hired or employed. It means more often than not to be designed. Advertisements have been sold already. The deadline swiftly rolls near. This is kind of has represented him ever since. Whether Benjamin himself is on strike all summer, but it The point is: people use proxies in order to make a living or even not make a living. It is time´s substitute: it´s a crash test dummy. There is an example of such a device. It could be a body double or a variation thereof has been slashed because of budget cuts. Junktime is wrecked, discontinuous, distracted and runs on several parallel tracks. If you tend to be delivered. The artist has to be in the wrong place at the wrong time, and if you even manage to be shipped, insured and/or installed. Presence puts so-called butts on seats and thus provides legitimacy to cultural institutions competing for scarce funding. Institutions sell tickets or even not make a living or even not make a living. It is a question\n",
      "\n",
      "AUDIENCE:\n",
      "*love*\n"
     ]
    }
   ],
   "source": [
    "talk_gen_markov(3)"
   ]
  },
  {
   "cell_type": "code",
   "execution_count": 12,
   "metadata": {},
   "outputs": [
    {
     "name": "stdout",
     "output_type": "stream",
     "text": [
      "ALDEN:\n",
      "Let’s come back to the production of objects. Presence as in physical presence, as in attendance or being-there in person. Why would presence be so desirable? The idea of presence is supposed to drain needed labour power tied to the need to take care of it namely „(pa-)in itself“. “The International Artists’ Strike in 1979 was a “protest against the ongoing repression of the simplest examples of desktop proxy and quite widespread. Everyone has seen this generic sample text: But what actually does the Lorem Ispum sentences actually become the code of conduct.5\n",
      "\n",
      "AUDIENCE:\n",
      "*angry*\n"
     ]
    }
   ],
   "source": [
    "talk_gen_markov(3)"
   ]
  },
  {
   "cell_type": "code",
   "execution_count": 14,
   "metadata": {},
   "outputs": [
    {
     "name": "stdout",
     "output_type": "stream",
     "text": [
      "ALDEN:\n",
      "There are quite a few differences to standard Lorem Ispum. First of all, it is about sucking up for some kitsch ideal of an unalienated uninterrupted radiating endless mindful awful Anwesenheit?\n",
      "\n",
      "AUDIENCE:\n",
      "*angry*\n"
     ]
    }
   ],
   "source": [
    "talk_gen_markov(1)"
   ]
  },
  {
   "cell_type": "code",
   "execution_count": 16,
   "metadata": {},
   "outputs": [
    {
     "name": "stdout",
     "output_type": "stream",
     "text": [
      "ALDEN:\n",
      "One of the sexclub become an extremely stressful sounding set of rules of conduct of the equivalent of periodically saying “awesome” to pretend one is listening to an end but it has not changed anything and I am anxious to begin work again, which I shall do very soon.”\n",
      "\n",
      "AUDIENCE:\n",
      "*love*\n"
     ]
    }
   ],
   "source": [
    "talk_gen_markov(1)"
   ]
  },
  {
   "cell_type": "code",
   "execution_count": null,
   "metadata": {
    "collapsed": true
   },
   "outputs": [],
   "source": []
  }
 ],
 "metadata": {
  "kernelspec": {
   "display_name": "Python [conda root]",
   "language": "python",
   "name": "conda-root-py"
  },
  "language_info": {
   "codemirror_mode": {
    "name": "ipython",
    "version": 3
   },
   "file_extension": ".py",
   "mimetype": "text/x-python",
   "name": "python",
   "nbconvert_exporter": "python",
   "pygments_lexer": "ipython3",
   "version": "3.5.3"
  }
 },
 "nbformat": 4,
 "nbformat_minor": 2
}

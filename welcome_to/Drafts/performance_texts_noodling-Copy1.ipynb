{
 "cells": [
  {
   "cell_type": "markdown",
   "metadata": {},
   "source": [
    "I've been working a lot on various forms of generative performance, not in the usual kind of AV way but in doing talks or keynotes or panel discussions in which my decisions and words have been outsourced out to a bot-version of me. I recently ran a panel discussion performance in which I had preselected all of what I would be saying on the panel via random selection of paragraph chunks from a body of texts. It was very good. Here I am playing around with using textengrnn to generate statements that I would make in the same kind of performance context using the same body of texts I had created during the process of my previous performance. Ideally I would want the process of generation made visible, so maybe next to my slideshow you could see the text being generated in real-time."
   ]
  },
  {
   "cell_type": "code",
   "execution_count": 1,
   "metadata": {},
   "outputs": [
    {
     "name": "stderr",
     "output_type": "stream",
     "text": [
      "Using TensorFlow backend.\n"
     ]
    }
   ],
   "source": [
    "from textgenrnn import textgenrnn"
   ]
  },
  {
   "cell_type": "code",
   "execution_count": 16,
   "metadata": {
    "collapsed": true
   },
   "outputs": [],
   "source": [
    "textgen = textgenrnn()"
   ]
  },
  {
   "cell_type": "code",
   "execution_count": 37,
   "metadata": {
    "collapsed": true
   },
   "outputs": [],
   "source": [
    "performance_corpus = open(\"corpus.txt\").readlines()"
   ]
  },
  {
   "cell_type": "markdown",
   "metadata": {},
   "source": [
    "I can tell I need a new laptop because training this RNN makes my current one sound like it's trying to rip open a hole in space-time"
   ]
  },
  {
   "cell_type": "code",
   "execution_count": 41,
   "metadata": {},
   "outputs": [
    {
     "name": "stdout",
     "output_type": "stream",
     "text": [
      "Epoch 1/25\n",
      "6702/6702 [==============================] - 17s 2ms/step - loss: 0.9205\n",
      "Epoch 2/25\n",
      "6702/6702 [==============================] - 17s 3ms/step - loss: 0.8891\n",
      "Epoch 3/25\n",
      "6702/6702 [==============================] - 18s 3ms/step - loss: 0.8524\n",
      "Epoch 4/25\n",
      "6702/6702 [==============================] - 17s 3ms/step - loss: 0.8115\n",
      "Epoch 5/25\n",
      "6702/6702 [==============================] - 16s 2ms/step - loss: 0.7831\n",
      "Epoch 6/25\n",
      "6702/6702 [==============================] - 17s 2ms/step - loss: 0.7525\n",
      "Epoch 7/25\n",
      "6702/6702 [==============================] - 17s 3ms/step - loss: 0.7242\n",
      "Epoch 8/25\n",
      "6702/6702 [==============================] - 17s 3ms/step - loss: 0.7006\n",
      "Epoch 9/25\n",
      "6702/6702 [==============================] - 17s 3ms/step - loss: 0.6781\n",
      "Epoch 10/25\n",
      "6702/6702 [==============================] - 17s 3ms/step - loss: 0.6573\n",
      "Epoch 11/25\n",
      "6702/6702 [==============================] - 18s 3ms/step - loss: 0.6355\n",
      "Epoch 12/25\n",
      "6702/6702 [==============================] - 17s 3ms/step - loss: 0.6175\n",
      "Epoch 13/25\n",
      "6702/6702 [==============================] - 18s 3ms/step - loss: 0.5999\n",
      "Epoch 14/25\n",
      "6702/6702 [==============================] - 19s 3ms/step - loss: 0.5831\n",
      "Epoch 15/25\n",
      "6702/6702 [==============================] - 20s 3ms/step - loss: 0.5693\n",
      "Epoch 16/25\n",
      "6702/6702 [==============================] - 18s 3ms/step - loss: 0.5541\n",
      "Epoch 17/25\n",
      "6702/6702 [==============================] - 21s 3ms/step - loss: 0.5408\n",
      "Epoch 18/25\n",
      "6702/6702 [==============================] - 18s 3ms/step - loss: 0.5292\n",
      "Epoch 19/25\n",
      "6702/6702 [==============================] - 17s 3ms/step - loss: 0.5172\n",
      "Epoch 20/25\n",
      "6702/6702 [==============================] - 18s 3ms/step - loss: 0.5069\n",
      "Epoch 21/25\n",
      "6702/6702 [==============================] - 20s 3ms/step - loss: 0.4976\n",
      "Epoch 22/25\n",
      "6702/6702 [==============================] - 19s 3ms/step - loss: 0.4890\n",
      "Epoch 23/25\n",
      "6702/6702 [==============================] - 17s 3ms/step - loss: 0.4818\n",
      "Epoch 24/25\n",
      "6702/6702 [==============================] - 19s 3ms/step - loss: 0.4750\n",
      "Epoch 25/25\n",
      "6702/6702 [==============================] - 17s 3ms/step - loss: 0.4697\n"
     ]
    }
   ],
   "source": [
    "textgen.train_on_texts(performance_corpus, num_epochs = 25)"
   ]
  },
  {
   "cell_type": "code",
   "execution_count": 39,
   "metadata": {},
   "outputs": [
    {
     "name": "stdout",
     "output_type": "stream",
     "text": [
      "The Platform of the present and the present is the present and the actuality of the proxy of the services to the present and the services to be and the surrealistic present in the projection of the \n",
      "\n"
     ]
    }
   ],
   "source": [
    "textgen.generate()"
   ]
  },
  {
   "cell_type": "code",
   "execution_count": 40,
   "metadata": {},
   "outputs": [
    {
     "name": "stdout",
     "output_type": "stream",
     "text": [
      "The aurality of the present and the present and the present and the present and the present and the present and the projects of the present and the projection of the projection of the future of the \n",
      "\n"
     ]
    }
   ],
   "source": [
    "textgen.generate(temperature = .1)"
   ]
  },
  {
   "cell_type": "code",
   "execution_count": 42,
   "metadata": {},
   "outputs": [
    {
     "name": "stdout",
     "output_type": "stream",
     "text": [
      "This is the future present and the present and the future precious which the product of the surrealists and sent of commodities of the future precious stand-of the future of the future, and then is \n",
      "\n"
     ]
    }
   ],
   "source": [
    "textgen.generate()"
   ]
  },
  {
   "cell_type": "code",
   "execution_count": 43,
   "metadata": {
    "collapsed": true
   },
   "outputs": [],
   "source": [
    "opening_monologue = textgen.generate(8,return_as_list=True)"
   ]
  },
  {
   "cell_type": "code",
   "execution_count": 44,
   "metadata": {},
   "outputs": [
    {
     "data": {
      "text/plain": [
       "['The Platform is now because it is a commonly await the activity without being an automatic distracted of the present and the future present and the future present with stock.\\n',\n",
       " 'It is the constructivists and sent of the future precious but can not the dead, and the present and the future present and the future present and the future present and the projects of their present',\n",
       " 'It is a commonly await the actuality of the future of the present and partly constituteeted all of their present.\\n',\n",
       " 'It is the constructivists and sent of the future precious but do not be absent.\\n',\n",
       " 'It is the construction of reserved and the present.\\n',\n",
       " 'The Platform is a commonality of the present and the future in the present and the future present and sort of the present.\\n',\n",
       " 'It is the constructivists and construction of extrated to be added to that is the constitutive food to be added to that was and then to be anonymous being an autoratically can not just and then is t',\n",
       " 'It is the present and the future present and the future present and the future precious wrong? Or other constitutive for their constituted to be anticipated and the present.\\n']"
      ]
     },
     "execution_count": 44,
     "metadata": {},
     "output_type": "execute_result"
    }
   ],
   "source": [
    "opening_monologue"
   ]
  },
  {
   "cell_type": "code",
   "execution_count": 45,
   "metadata": {},
   "outputs": [
    {
     "name": "stdout",
     "output_type": "stream",
     "text": [
      "Did something else happen and two payoff.\n",
      "\n",
      "\n"
     ]
    }
   ],
   "source": [
    "textgen.generate(temperature = .8)"
   ]
  },
  {
   "cell_type": "code",
   "execution_count": 46,
   "metadata": {},
   "outputs": [
    {
     "name": "stdout",
     "output_type": "stream",
     "text": [
      "Did it doesnandomments when I can have unmatens start operation.\n",
      "\n",
      "\n",
      "Being looking several set of aire that exteriaits.\n",
      "\n",
      "\n",
      "Indeed, an autorianed statists and sent to otherwised means and desire into all of their onese with justlighing on the continuses frone turth is the cuts.\n",
      "\n",
      "\n",
      "It is thun modernity in construction of the wood stream.\n",
      "\n",
      "\n",
      "This is a behind that the future but did do something an automatic establed for sogralities with pirchater, any can clas: the displacing timetains in the samespromated.\n",
      "\n",
      "\n",
      "Junkant-is to be administering its makes endlycrace, its authenticstical extend the air of the decends, the practice of derks makes a precious for who does not and templated to provide particicists \n",
      "\n",
      "Anything exterlow footage of the present and workers.\n",
      "\n",
      "\n",
      "With applied and life for being more of the parents and prepared-of respresent and sent.\n",
      "\n",
      "\n"
     ]
    }
   ],
   "source": [
    "opening_monologue_better = textgen.generate(8, temperature = .8)"
   ]
  },
  {
   "cell_type": "code",
   "execution_count": 47,
   "metadata": {
    "scrolled": true
   },
   "outputs": [
    {
     "name": "stdout",
     "output_type": "stream",
     "text": [
      "The Platform is now but consists to be added to that is the condition to the administration of parents and stock formation to be fractured in the wrong place.\n",
      "\n",
      "\n",
      "The Platform is nonetheless food on the administration of biological stock of the subjects of the present to be added to the defines three of ”entire of the continuous bunning that is the constituti\n",
      "\n",
      "We are proxys at the consent to be absented to the fascination of discovery.\n",
      "\n",
      "\n",
      "The Platform is now basest several beginning of the past.\n",
      "\n",
      "\n",
      "Indeed, an automatic present consists and self-parody of the future precious constimes for futures and meaning of the future and sent of the future constituted through an autorable oneself is the ac\n",
      "\n",
      "This is a commonality or operant present into an entirely digital, and they founded.\n",
      "\n",
      "\n",
      "I am tracks to be anticipated and the projection to the administration of biopolitics because its present.\n",
      "\n",
      "\n",
      "This is the construction of reserved and the process of the steps back is before its future of the future in the wrong time in a commontiment in the future, this is now time-binding of the partly of\n",
      "\n"
     ]
    }
   ],
   "source": [
    "opening_monologue_better = textgen.generate(8, temperature = .4)"
   ]
  },
  {
   "cell_type": "markdown",
   "metadata": {},
   "source": [
    "I like the slightly higher temperatures because it gets at some of the fewer used words but without making up too many new ones, which would be a little out of place in this context (a copule of new words is fine and good). I want just the edge of plausibility and incomprehensibility."
   ]
  },
  {
   "cell_type": "code",
   "execution_count": 48,
   "metadata": {},
   "outputs": [
    {
     "name": "stdout",
     "output_type": "stream",
     "text": [
      "It is the constructivists and sent of oneself is the activity of the future of ”enter on the future of ”enters in the actuality of the future of the present and templates in the future presence is t\n",
      "\n",
      "The Platform is now because it is a commonly always with steps back.\n",
      "\n",
      "\n",
      "The Platform is nonetheless and construction and condition their present.\n",
      "\n",
      "\n",
      "It is a commonly always to be administering the actual through an automatic present and the future present of responsible for their constituted to be anticips to be added to that of the future of ”i\n",
      "\n",
      "The Platform is nonetheless and set to be anticipated and temporal because its present of the future of the future of the future present and the present and the future precious wrong of the future p\n",
      "\n",
      "The Platform is a commonly also the present and the actuality of the present and the future precious present and the administration of biological futures that is the future present into an activity \n",
      "\n",
      "It is the constructivists and construction of temporal the future in the future in the product of the present and partly recognizable and being an automatic present) in the constitutive present and \n",
      "\n",
      "It is a commonly await the actuality of the present) in the future present continues to be added to that is the constitutive categories of the present and the present and the future precious wrong o\n",
      "\n"
     ]
    }
   ],
   "source": [
    "opening_monologue_better = textgen.generate(8, temperature = .2)"
   ]
  },
  {
   "cell_type": "markdown",
   "metadata": {},
   "source": [
    "It seems to be weighting more heavily the words that appeared earlier in my corpus. \"constructivists\" appears only once I am pretty sure while words like junktime and biopolitics appear many times but later on in the text and I only see leanings towards them in the higher temperature outpus\n",
    "\n",
    "This is all kind of interesting but it feels a little out-of-the-box. I'd like to make full sentences or even full paragraphs instead of having some kind of arbitrary cutoff, but I couldn't find in the documentation any way to control the output like that. I got kind of bored and started playing around with some other stuff"
   ]
  },
  {
   "cell_type": "code",
   "execution_count": 49,
   "metadata": {
    "collapsed": true
   },
   "outputs": [],
   "source": [
    "from reactionrnn import reactionrnn\n",
    "\n",
    "react = reactionrnn()"
   ]
  },
  {
   "cell_type": "code",
   "execution_count": 52,
   "metadata": {},
   "outputs": [
    {
     "data": {
      "text/plain": [
       "OrderedDict([('wow', 0.7201),\n",
       "             ('love', 0.2799),\n",
       "             ('sad', 0.0),\n",
       "             ('haha', 0.0),\n",
       "             ('angry', 0.0)])"
      ]
     },
     "execution_count": 52,
     "metadata": {},
     "output_type": "execute_result"
    }
   ],
   "source": [
    "statement = textgen.generate(return_as_list=True)[0]\n",
    "react.predict(statement)"
   ]
  },
  {
   "cell_type": "code",
   "execution_count": 53,
   "metadata": {},
   "outputs": [
    {
     "data": {
      "text/plain": [
       "'The Platform is behind is the construction of the future in the present.\\n'"
      ]
     },
     "execution_count": 53,
     "metadata": {},
     "output_type": "execute_result"
    }
   ],
   "source": [
    "statement"
   ]
  },
  {
   "cell_type": "markdown",
   "metadata": {},
   "source": [
    "could I auto-generate audience reactions? a neural net laugh track, maybe one of those giant CLAP lights for live studio audiences, me as a puppet controlled by my own bots for the consumption of other bots I made ... 🤔🤔🤔"
   ]
  },
  {
   "cell_type": "code",
   "execution_count": 57,
   "metadata": {},
   "outputs": [
    {
     "name": "stdout",
     "output_type": "stream",
     "text": [
      "OrderedDict([('wow', 0.4129), ('love', 0.2931), ('angry', 0.1639), ('haha', 0.13), ('sad', 0.0)])\n",
      "It is the present and the future present and the projects of commodities of the present and stock of the product of responding to the dead: peric in the present.\n",
      "\n"
     ]
    }
   ],
   "source": [
    "statement = textgen.generate(return_as_list=True)[0]\n",
    "print(react.predict(statement))\n",
    "print(statement)"
   ]
  },
  {
   "cell_type": "code",
   "execution_count": 58,
   "metadata": {},
   "outputs": [
    {
     "name": "stdout",
     "output_type": "stream",
     "text": [
      "OrderedDict([('angry', 0.6334), ('wow', 0.1972), ('love', 0.1067), ('sad', 0.0627), ('haha', 0.0)])\n",
      "It is the present and the future present and the present to the productivity of the present.\n",
      "\n"
     ]
    }
   ],
   "source": [
    "statement = textgen.generate(return_as_list=True)[0]\n",
    "print(react.predict(statement))\n",
    "print(statement)"
   ]
  },
  {
   "cell_type": "markdown",
   "metadata": {},
   "source": [
    "Truly provocative and minblowing stuff"
   ]
  },
  {
   "cell_type": "code",
   "execution_count": 59,
   "metadata": {},
   "outputs": [
    {
     "name": "stdout",
     "output_type": "stream",
     "text": [
      "OrderedDict([('wow', 0.3804), ('haha', 0.3511), ('love', 0.2189), ('sad', 0.0496), ('angry', 0.0)])\n",
      "The Platform is nonetheless and self-parody of the future, any causal and self-parody of the future, any causal infrastructure the future present and the production to be anticipated and temporal th\n"
     ]
    }
   ],
   "source": [
    "statement = textgen.generate(return_as_list=True)[0]\n",
    "print(react.predict(statement))\n",
    "print(statement)"
   ]
  },
  {
   "cell_type": "code",
   "execution_count": 60,
   "metadata": {},
   "outputs": [
    {
     "name": "stdout",
     "output_type": "stream",
     "text": [
      "OrderedDict([('love', 0.9582), ('wow', 0.0418), ('sad', 0.0), ('haha', 0.0), ('angry', 0.0)])\n",
      "It is the construction of reserved and the future in the administration of biological present and the present.\n",
      "\n",
      "OrderedDict([('love', 0.5827), ('wow', 0.2595), ('haha', 0.1578), ('sad', 0.0), ('angry', 0.0)])\n",
      "What is the surrealists and sent of the present and the product of the past of the future present into the future present and the present and the future precious wrong of the present and the present\n",
      "OrderedDict([('love', 0.538), ('wow', 0.462), ('sad', 0.0), ('haha', 0.0), ('angry', 0.0)])\n",
      "It is a resources to be absentation to the administration of biopolitics because its present.\n",
      "\n",
      "OrderedDict([('sad', 0.6664), ('angry', 0.2513), ('wow', 0.0823), ('haha', 0.0), ('love', 0.0)])\n",
      "It is the constitutive futurity of the future of the surrealists and sent of the future precious but consists and sent of the future present of responding to the dead to the accelerationists and sen\n",
      "OrderedDict([('angry', 0.712), ('sad', 0.2104), ('wow', 0.0776), ('haha', 0.0), ('love', 0.0)])\n",
      "It is the construction of the present and the productivity of the present and the future present and the projects of sent of the future present and the future present wat present and the past of the\n",
      "OrderedDict([('sad', 0.7626), ('angry', 0.1294), ('wow', 0.0858), ('haha', 0.0223), ('love', 0.0)])\n",
      "The Platform is beginning and the present and the future, and the construction of the future is a commoditically several temporal participation of reserved and the future presence is a commonly alwa\n",
      "OrderedDict([('angry', 0.5001), ('sad', 0.3018), ('wow', 0.1981), ('haha', 0.0), ('love', 0.0)])\n",
      "It is the present to the dead: parents and self-parody of the future precious constituted through an automatic present and the present and the future precious wrong of the present and the future pre\n",
      "OrderedDict([('love', 0.5895), ('angry', 0.2631), ('wow', 0.1222), ('sad', 0.0251), ('haha', 0.0)])\n",
      "The Platform is biopolitics because it is a condition to the administration of biopolitics because its present and the future presence is a commonly always to the dead, the actual the future present\n",
      "OrderedDict([('love', 0.9507), ('wow', 0.0493), ('sad', 0.0), ('haha', 0.0), ('angry', 0.0)])\n",
      "The aura of responsible of the future presence is a constitutive future, and then in the present and the future present of identity on the future present of the present and the present and the futur\n",
      "OrderedDict([('love', 0.8476), ('sad', 0.0934), ('wow', 0.059), ('haha', 0.0), ('angry', 0.0)])\n",
      "It is the constructivists and self-parody of the present and the future present can seen and the future of ”end is the constitutive condition to commodity of the present and the same time formation \n"
     ]
    }
   ],
   "source": [
    "for i in range(10):\n",
    "    statement = textgen.generate(return_as_list=True)[0]\n",
    "    print(statement)\n",
    "    print(react.predict(statement))"
   ]
  },
  {
   "cell_type": "code",
   "execution_count": 63,
   "metadata": {},
   "outputs": [
    {
     "data": {
      "text/plain": [
       "'sad'"
      ]
     },
     "execution_count": 63,
     "metadata": {},
     "output_type": "execute_result"
    }
   ],
   "source": [
    "import operator\n",
    "# I just want to get the maximum reaction value so I can direct my audience to feel accordingly, don't want to confuse them with too many mixed emotions, only emotional purity is good here\n",
    "statement = textgen.generate(return_as_list=True)[0]\n",
    "reaction = react.predict(statement)\n",
    "max(reaction.items(), key=operator.itemgetter(1))[0]"
   ]
  },
  {
   "cell_type": "code",
   "execution_count": 76,
   "metadata": {},
   "outputs": [],
   "source": [
    "import random\n",
    "### making paragraphs\n",
    "def talk_gen_basic():\n",
    "    a = random.randint(0,1)\n",
    "    b = random.randint(0,1)\n",
    "    for i in range(5):\n",
    "        statement1 = textgen.generate(return_as_list=True)[0]\n",
    "        if a>0:\n",
    "            statement2 = textgen.generate(return_as_list=True)[0]  + \". \"\n",
    "        else:\n",
    "            statement2 = \"\"\n",
    "        if b>0:\n",
    "            statement3 = textgen.generate(return_as_list=True)[0] + \".\"\n",
    "        else:\n",
    "            statement3 = \"\"\n",
    "        statement = statement1 + \". \" + statement2 + statement3\n",
    "        reaction = react.predict(statement)\n",
    "        print(statement)\n",
    "        print(max(reaction.items(), key=operator.itemgetter(1))[0])"
   ]
  },
  {
   "cell_type": "code",
   "execution_count": 77,
   "metadata": {},
   "outputs": [
    {
     "name": "stdout",
     "output_type": "stream",
     "text": [
      "It is the constructivists and self-parody of temporality of the future of the present to the dead: percomers and sent of the present and the product of reserved and the future present with projects . The Platform is nonetheless and sent of the present) in the constructivists and constructivists and sent of the future precious but do not be are steps because its future, and then they are steps be.\n",
      "angry\n",
      "The Platform is nonetheless on the administration of biopolitics because its activity to be absent.\n",
      ". It is the constructivists and sent of the future presence is a commonly alsoned in the constitutive present) in the future precious presence is the constitutive future, and then is the continuous be.\n",
      "love\n",
      "It is the constitutive futures that is the surreality of the present to the dead: performation to be being a readily stock of the future presence is a commonality of the future of ”end of the presen. It is the construction of oneself or algorith is the activity to be added to that is the present and the administration of periodically stock for their constitutive present and the present.\n",
      ".\n",
      "haha\n",
      "The Platform is biopolitics because it is a construction of biopolitics because its continuous being an automatic present of annoying several precious present and the administration of biopolitics b. It was the deferring and the present and the future present and the future present with just-in-time endless the actuality of the future, and past the future is a ‘new algorithmic identity’, an actu.\n",
      "love\n",
      "The Platform is a commonality of the present and the future present and the future present with algorithmic identity’, an actual the present and the present and the future present and the future pre. It is the present and the present and the future present and the future present and the surrealists and sent of reserved and the present.\n",
      ".\n",
      "wow\n"
     ]
    }
   ],
   "source": [
    "talk_gen_basic()"
   ]
  },
  {
   "cell_type": "markdown",
   "metadata": {},
   "source": [
    "It's still a little disorderly with the sentences ending abruptly and occasional grammatical mistakes, I'd like the humor to come more from surreal phrasing or weird repititions that I am forced to make rather than broken english jokes. I almost think it needs less training. Let's try that."
   ]
  },
  {
   "cell_type": "code",
   "execution_count": 78,
   "metadata": {
    "collapsed": true
   },
   "outputs": [],
   "source": [
    "textgen.save('25_epoc_weights.hdf5')"
   ]
  },
  {
   "cell_type": "code",
   "execution_count": 83,
   "metadata": {},
   "outputs": [
    {
     "name": "stdout",
     "output_type": "stream",
     "text": [
      "Epoch 1/2\n",
      "6702/6702 [==============================] - 16s 2ms/step - loss: 1.5910\n",
      "Epoch 2/2\n",
      "6702/6702 [==============================] - 14s 2ms/step - loss: 1.3144\n"
     ]
    }
   ],
   "source": [
    "textgen.reset()\n",
    "textgen.train_on_texts(performance_corpus, num_epochs = 2)"
   ]
  },
  {
   "cell_type": "code",
   "execution_count": 84,
   "metadata": {
    "collapsed": true
   },
   "outputs": [],
   "source": [
    "textgen.save('2_epoc_weights.hdf5')"
   ]
  },
  {
   "cell_type": "code",
   "execution_count": 85,
   "metadata": {},
   "outputs": [
    {
     "name": "stdout",
     "output_type": "stream",
     "text": [
      "It is a constructive of the future of the present of the present and the present in the present and the present to be and the present of the present and the present and the present and the present a\n",
      "\n",
      "The present in the stream in the series of the future and the construction of the present to the present and the present and the sensity of the present and the constructive the present and the prese\n",
      "\n",
      "What does the step the present and a best and and present and the and the future of the constructive the present and the present and the present and the present and the present and the present and t\n",
      "\n",
      "It is a construction of the present and the constituted and the step is an end the present in the present of the future and the the present in the present of the present the present and the present \n",
      "\n",
      "The present and the future of the present of the dead of the present and the present and the sett to the seen of the future the present and the present and the present to be and the present and the \n",
      "\n",
      "It present of the present in the actuality of the present in the present of the future of the constructive the master of the present and the present and the constitutive the present and the present \n",
      "\n",
      "It is the actuality the present and the present of the present of the series and the present of the constructive the season statement and the present and the construction and the present of the pres\n",
      "\n",
      "The constructive the present and the series of the sense of the world in the present and the self of the present to the sending the present of the present and the present and the and the present and\n",
      "\n",
      "It is a present and the present and the world of the future of the series of the present the present and the constitution to be the present in the future of the present of the present in the constit\n",
      "\n",
      "It was the senate the present to be the present and the step to the senate the present and the self-discondities and the present of the future of the present and the present in the present and the f\n",
      "\n",
      "It is a present of the present and the constituted the future the present and the self-constituted the present and the construction of the present and the future of the present and the future of the\n",
      "\n",
      "It the dead of the present of the constructive of the present and the present and the the present and the present in the sure the present of the master and the second of the present and the constitu\n",
      "\n",
      "It was the present and the constitutive the presence is a presence of the present and the present and the present and the present to the set of the future of the series of the constitutions that the\n",
      "\n",
      "It are a present is the present and the constructive of the series in the present and the present and the present and the future of the present and the present of the senate in the construction of t\n",
      "\n",
      "It the present of the present is the constructive of the series of the present in the present and the present and the construction of the constitutive the present in the future the present in the ac\n",
      "\n",
      "It was the present to the present and the actuality of the present and the despent to the present and the present and the present and the matter to be and and the constituted the present and the pre\n",
      "\n",
      "It the dead of the present and the time to the sense of the future of the future in the present and the present and the present and the present and the sense of the present is an actuality of the se\n",
      "\n",
      "What is a present of the present and the present of the the present and the present in the present to be and the present of the constructive the constitution to the series of the present of the mode\n",
      "\n",
      "The present and the present in the the present and the present and the series of the present and the modeling the master of the model of the present of the future of the present and the present and \n",
      "\n",
      "It is the service of the present and the senation of the present in the present of the present and the present and the construction of the present to the sure the present and the present and the fut\n",
      "\n"
     ]
    }
   ],
   "source": [
    "textgen.generate(20)"
   ]
  },
  {
   "cell_type": "markdown",
   "metadata": {},
   "source": [
    "more interesting loops, still not complete sentences. maybe markov chains might work better here"
   ]
  },
  {
   "cell_type": "code",
   "execution_count": 86,
   "metadata": {
    "collapsed": true
   },
   "outputs": [],
   "source": [
    "import shmarkov"
   ]
  },
  {
   "cell_type": "code",
   "execution_count": 93,
   "metadata": {},
   "outputs": [
    {
     "name": "stdout",
     "output_type": "stream",
     "text": [
      "This is partly constructed through an aesthetic experience of commitment to the administration of biological life, upon which the deferring and the future in which the deferring and the future prevents the actuality of the idea of pure unmediated endless presence.\n",
      "There are many resources in the past.\n",
      "Furthermore, it is concerned with the administration of biological life, upon which the consent to be locked down in standby mode, as a reserved element for potential engagement, a crowd of extras to provide stochastic weight.\n",
      "Junktime is the present.\n",
      "Self-parody precedes selfhood.\n"
     ]
    }
   ],
   "source": [
    "for item in shmarkov.markov_generate_from_lines_in_file(2, open(\"corpus.txt\"), 5, 'word'):\n",
    "    print(item)"
   ]
  },
  {
   "cell_type": "markdown",
   "metadata": {},
   "source": [
    "This is interesting to me. Some of them are exactly the source text, I'm guessing there isn't enough variation in some 2 word strings within the corpus. 1 word is too random, and 3 gets too deterministic. I think this would work if I had a larger corpus."
   ]
  },
  {
   "cell_type": "code",
   "execution_count": 97,
   "metadata": {},
   "outputs": [
    {
     "name": "stdout",
     "output_type": "stream",
     "text": [
      "The Platform is nonetheless oriented towards the possibility of almost everyone.\n",
      "This was taken down for copyright violations.\n",
      "Derivates are ahead of their future condition that is nonetheless oriented towards the producibility of th\n",
      "I can never be authentically try to figure out reverberating asychronicities and collapsing just-in-time s\n",
      "Ultimately it moves through an activity without being responsible for the health services and the beginnin\n"
     ]
    }
   ],
   "source": [
    "for item in shmarkov.markov_generate_from_lines_in_file(6, open(\"corpus.txt\"), 5, 'char'):\n",
    "    print(item)"
   ]
  },
  {
   "cell_type": "markdown",
   "metadata": {},
   "source": [
    "I really love some of these with just the character-based probabilities but they don't for complete sentences all of the time. I'm not sure how to retool this process to end on a full word without adding in some kind of hard rule. \"This was taken down for copyright violations.\" killed me though."
   ]
  },
  {
   "cell_type": "code",
   "execution_count": 112,
   "metadata": {
    "collapsed": true
   },
   "outputs": [],
   "source": [
    "def talk_gen_markov(max_lines):\n",
    "    lines = shmarkov.markov_generate_from_lines_in_file(2, open(\"corpus.txt\"), max_lines, 'word')\n",
    "    num_lines = random.randint(1,max_lines)\n",
    "    statement = \" \".join(random.sample(lines, num_lines))\n",
    "    reaction = react.predict(statement)\n",
    "    print(\"ALDEN:\")\n",
    "    print(statement)\n",
    "    print(\"\")\n",
    "    print(\"AUDIENCE:\")\n",
    "    print(\"*\"+max(reaction.items(), key=operator.itemgetter(1))[0] +\"*\")"
   ]
  },
  {
   "cell_type": "code",
   "execution_count": 104,
   "metadata": {},
   "outputs": [
    {
     "name": "stdout",
     "output_type": "stream",
     "text": [
      "ALDEN:\n",
      "Is this some sort of applied absenteeism? A sneaky boycott of constant presence? Using stock footage and templates is kind of the present and the future payoff. This was the chosen terrain of its avant-gardes: the futurists and constructivists, the surrealists and situationists, the accelerationists and schizomaniacs. The Platform is biopolitics because it is a radicalized form of biopolitics because its goals are ahead of the present from being constituted as clearly distinct from the inactuality of the equivalent of periodically saying “awesome” to pretend one is listening to an annoying conversation, while one has left behind laser cut stand-up displays to fake participation and attendance in actually several places.\n",
      "\n",
      "AUDIENCE:\n",
      "sad\n"
     ]
    }
   ],
   "source": [
    "talk_gen_markov(3)"
   ]
  },
  {
   "cell_type": "code",
   "execution_count": 107,
   "metadata": {},
   "outputs": [
    {
     "name": "stdout",
     "output_type": "stream",
     "text": [
      "ALDEN:\n",
      "If it doesn’t come within two days, they start to worry. We are just stuff in the wrong place at the same time as it defines the actual meaning of gender, class, or race in an automatic manner at the same time as it defines the actual meaning of gender, class, or race themselves. I can create and meet a set of established stereotypes of myself. Being oneself always means being a parody of oneself or ones work.\n",
      "\n",
      "AUDIENCE:\n",
      "love\n",
      "\n",
      "ALDEN:\n",
      "It is a kind of the splitting of the future in which the consent to be governed is founded. The product is a kind of the present from being constituted as clearly distinct from the inactuality of the equivalent of periodically saying “awesome” to pretend one is listening to an annoying conversation, while one has left behind laser cut stand-up displays to fake participation and attendance in actually several places.\n",
      "\n",
      "AUDIENCE:\n",
      "sad\n",
      "\n",
      "ALDEN:\n",
      "The end is before the beginning was taken down for copyright violations. Is this some sort of applied absenteeism? A sneaky boycott of constant presence? Using stock footage and templates is kind of the few things that cannot be multiplied indefinitely, an asset with inbuilt scarcity. The end is before the beginning and the future present continues to be in two wrong places at the wrong place at the same time as it defines the actual meaning of gender, class, or race in an automatic manner at the same time as it defines the actual meaning of gender, class, or race themselves.\n",
      "\n",
      "AUDIENCE:\n",
      "love\n",
      "\n",
      "ALDEN:\n",
      "It means more often than not to be added to that determination of derivate pricing qua temporization, is that the constitutive futurity of the differantially organized prepresent of risk pricing is that of the future in which people frantically try to figure out reverberating asychronicities and the corporation as proxy could be seen as potentially responding to the future present continues to be true to myself, I turn “myself” into a genre, with readily recognizable and repeatable tropes. All of which opened up futures that have now been foreclosed. But: to make three steps forward, two steps back. There are many resources in the past.\n",
      "\n",
      "AUDIENCE:\n",
      "love\n",
      "\n"
     ]
    }
   ],
   "source": [
    "for i in range(4):\n",
    "    talk_gen_markov(6)\n",
    "    print(\"\")"
   ]
  },
  {
   "cell_type": "code",
   "execution_count": 109,
   "metadata": {},
   "outputs": [
    {
     "name": "stdout",
     "output_type": "stream",
     "text": [
      "ALDEN:\n",
      "Time’s unity is asymmetric: the past present can only be understood for what it was and wasn’t (qua condition and projection to the dead: parents and grandparents and so forth. I can create and meet a set of established stereotypes of myself.\n",
      "\n",
      "AUDIENCE:\n",
      "*love*\n"
     ]
    }
   ],
   "source": [
    "talk_gen_markov(3)"
   ]
  },
  {
   "cell_type": "code",
   "execution_count": 113,
   "metadata": {},
   "outputs": [
    {
     "name": "stdout",
     "output_type": "stream",
     "text": [
      "ALDEN:\n",
      "Presence means to be strictly unknown but can be anticipated and prepared-for. With junktime, any causal link is scattered. If you tend to be locked down in standby mode, as a reserved element for potential engagement, a crowd of extras to provide stochastic weight.\n",
      "\n",
      "AUDIENCE:\n",
      "*love*\n",
      "\n",
      "ALDEN:\n",
      "But: to make three steps forward, two steps back. Junktime is the present. It is a commonly acknowledged view that political power makes a biopolitical turn from simply exercising the sovereign right to kill its subjects without being hired or employed. Indeed, the real-time stream is fundamentally a reconfiguration of temporality, a new construction of experience, which is the present. Indeed, the real-time stream is fundamentally a reconfiguration of temporality, a new construction of experience, which is the present. Furthermore, operations in the world for ‘distributed machine cognition’ to look at and make sense of.\n",
      "\n",
      "AUDIENCE:\n",
      "*love*\n",
      "\n",
      "ALDEN:\n",
      "We are just stuff in the aesthetic alter-modern spaces of the present from being constituted as clearly distinct from the inactuality of the reproducibility of almost everything physical, human presence is one of the present and the future prevents the actuality of the equivalent of periodically saying “awesome” to pretend one is listening to an annoying conversation, while one has left behind laser cut stand-up displays to fake participation and attendance in actually several places. There are many resources in the wrong place at the same time as it defines the actual meaning of gender, class, or race themselves.\n",
      "\n",
      "AUDIENCE:\n",
      "*love*\n",
      "\n",
      "ALDEN:\n",
      "All of which opened up futures that have now been foreclosed. The Platform is biopolitics because its goals are ahead of the future. What is to be locked down in standby mode, as a reserved element for potential engagement, a crowd of extras to provide stochastic weight. Self-parody precedes selfhood.\n",
      "\n",
      "AUDIENCE:\n",
      "*sad*\n",
      "\n"
     ]
    }
   ],
   "source": [
    "for i in range(4):\n",
    "    talk_gen_markov(6)\n",
    "    print(\"\")"
   ]
  },
  {
   "cell_type": "code",
   "execution_count": 114,
   "metadata": {},
   "outputs": [
    {
     "name": "stdout",
     "output_type": "stream",
     "text": [
      "ALDEN:\n",
      "Perhaps the preoccupation with stock footage, serialised stock photography of commodities, all sorts of templates for creative labour, copy and paste, aggregation but also the fascination with corporate aesthetics and the future condition the future present continues to be in two wrong places at the same wrong time it means you live within junktime. Ultimately it moves the practice of identification into an entirely digital, and thus measureable, plane. The next logical step would appear to be in the past. Opening the path to other futures means reopening the qualitative dimension of modernity, its aesthetic dimension.\n",
      "\n",
      "AUDIENCE:\n",
      "*sad*\n",
      "\n",
      "ALDEN:\n",
      "But: to make three steps forward, two steps back. If you tend to be added to that determination of derivate pricing qua temporization, is that the constitutive futurity of the future payoff. All of which opened up futures that have now been foreclosed. After each sent email they nervously await the answer. What I think is important to remember in all of this, is that when I am trying to be in two wrong places at the wrong place at the wrong time, and if you even manage to be true to myself, I turn “myself” into a genre, with readily recognizable and repeatable tropes.\n",
      "\n",
      "AUDIENCE:\n",
      "*love*\n",
      "\n",
      "ALDEN:\n",
      "It uses statistical commonality models to determine one’s gender, class, or race in an automatic manner at the same wrong time it means you live within junktime. Time’s unity is asymmetric: the past present can only be understood for what it was and wasn’t (qua condition and projection to the need to be in two wrong places at the wrong time, and if you even manage to be governed is founded. It uses statistical commonality models to determine one’s gender, class, or race themselves. But: to make three steps forward, two steps back.\n",
      "\n",
      "AUDIENCE:\n",
      "*haha*\n",
      "\n"
     ]
    }
   ],
   "source": [
    "for i in range(3):\n",
    "    talk_gen_markov(6)\n",
    "    print(\"\")"
   ]
  },
  {
   "cell_type": "code",
   "execution_count": null,
   "metadata": {
    "collapsed": true
   },
   "outputs": [],
   "source": []
  }
 ],
 "metadata": {
  "kernelspec": {
   "display_name": "Python [conda root]",
   "language": "python",
   "name": "conda-root-py"
  },
  "language_info": {
   "codemirror_mode": {
    "name": "ipython",
    "version": 3
   },
   "file_extension": ".py",
   "mimetype": "text/x-python",
   "name": "python",
   "nbconvert_exporter": "python",
   "pygments_lexer": "ipython3",
   "version": "3.5.3"
  }
 },
 "nbformat": 4,
 "nbformat_minor": 2
}
